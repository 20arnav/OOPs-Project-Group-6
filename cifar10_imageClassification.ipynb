{
  "nbformat": 4,
  "nbformat_minor": 0,
  "metadata": {
    "colab": {
      "provenance": [],
      "authorship_tag": "ABX9TyOzkGd13RS6fTCjm79fOTVA",
      "include_colab_link": true
    },
    "kernelspec": {
      "name": "python3",
      "display_name": "Python 3"
    },
    "language_info": {
      "name": "python"
    }
  },
  "cells": [
    {
      "cell_type": "markdown",
      "metadata": {
        "id": "view-in-github",
        "colab_type": "text"
      },
      "source": [
        "<a href=\"https://colab.research.google.com/github/20arnav/OOPs-Project-Group-6/blob/main/cifar10_imageClassification.ipynb\" target=\"_parent\"><img src=\"https://colab.research.google.com/assets/colab-badge.svg\" alt=\"Open In Colab\"/></a>"
      ]
    },
    {
      "cell_type": "markdown",
      "source": [],
      "metadata": {
        "id": "RXqF3f9vqp0J"
      }
    },
    {
      "cell_type": "code",
      "execution_count": 18,
      "metadata": {
        "id": "gNaH33tph4TI"
      },
      "outputs": [],
      "source": [
        "import numpy as np\n",
        "import matplotlib.pyplot as plt\n",
        "import tensorflow as tf\n",
        "from keras import datasets,models,layers"
      ]
    },
    {
      "cell_type": "code",
      "source": [
        "(X_train, Y_train), (X_test, Y_test) = datasets.cifar10.load_data()\n",
        "X_train.shape"
      ],
      "metadata": {
        "colab": {
          "base_uri": "https://localhost:8080/"
        },
        "id": "vIF2_0BqndCe",
        "outputId": "5c1fe2a6-098a-4365-c716-5c3078c8a833"
      },
      "execution_count": 19,
      "outputs": [
        {
          "output_type": "execute_result",
          "data": {
            "text/plain": [
              "(50000, 32, 32, 3)"
            ]
          },
          "metadata": {},
          "execution_count": 19
        }
      ]
    },
    {
      "cell_type": "code",
      "source": [
        "Y_train.shape\n",
        "Y_train = Y_train.reshape(-1,) #flattening the Y_train shape for easier working\n",
        "Y_test = Y_test.reshape(-1,)\n",
        "Y_train[:10]"
      ],
      "metadata": {
        "colab": {
          "base_uri": "https://localhost:8080/"
        },
        "id": "231AGbW2qUsF",
        "outputId": "7eeb371d-2e87-44cd-aff6-5f3cff08c6a8"
      },
      "execution_count": 20,
      "outputs": [
        {
          "output_type": "execute_result",
          "data": {
            "text/plain": [
              "array([6, 9, 9, 4, 1, 1, 2, 7, 8, 3], dtype=uint8)"
            ]
          },
          "metadata": {},
          "execution_count": 20
        }
      ]
    },
    {
      "cell_type": "code",
      "source": [
        "classes = [\"airplane\", \"automobile\", \"bird\", \"cat\", \"deer\", \"dog\", \"frog\", \"horse\", \"ship\", \"truck\"]"
      ],
      "metadata": {
        "id": "lb5DLMA4p8kR"
      },
      "execution_count": 21,
      "outputs": []
    },
    {
      "cell_type": "code",
      "source": [
        "def show_sample(X_train,Y_train,index): \n",
        "  plt.figure(figsize = (15,2))\n",
        "  plt.imshow(X_train[index])\n",
        "  plt.xlabel(classes[Y_train[index]])"
      ],
      "metadata": {
        "id": "rvN5Vfkbn7sK"
      },
      "execution_count": 22,
      "outputs": []
    },
    {
      "cell_type": "code",
      "source": [
        "show_sample(X_train, Y_train, 2)"
      ],
      "metadata": {
        "colab": {
          "base_uri": "https://localhost:8080/",
          "height": 237
        },
        "id": "HNXdouLVoMWJ",
        "outputId": "59e1968a-08a5-4dbf-e778-77a2efffdcfc"
      },
      "execution_count": 23,
      "outputs": [
        {
          "output_type": "display_data",
          "data": {
            "text/plain": [
              "<Figure size 1500x200 with 1 Axes>"
            ],
            "image/png": "[encoded data removed]"
          },
          "metadata": {}
        }
      ]
    },
    {
      "cell_type": "code",
      "source": [
        "X_train/255  #normalizing the RGB pixel values to 0 to 1 from 0 to 255\n",
        "X_test/255"
      ],
      "metadata": {
        "id": "GCdjsPcKjhr8"
      },
      "execution_count": null,
      "outputs": []
    },
    {
      "cell_type": "code",
      "source": [
        "cnn = models.Sequential([\n",
        "    #cnn\n",
        "    layers.Conv2D(filters = 32, kernel_size=(3,3), activation='relu', input_shape=(32,32,3)),\n",
        "    layers.MaxPooling2D((2,2)),\n",
        "    layers.Conv2D(filters = 64, kernel_size=(3,3), activation='relu'),\n",
        "    layers.MaxPooling2D((2,2)),\n",
        "    #dense\n",
        "    layers.Flatten(),\n",
        "    layers.Dense(64, activation='relu'),\n",
        "    layers.Dense(10, activation='softmax')\n",
        "  ])"
      ],
      "metadata": {
        "id": "3JKiNZCeq0gU"
      },
      "execution_count": 26,
      "outputs": []
    },
    {
      "cell_type": "code",
      "source": [
        "from keras.engine.training import optimizer\n",
        "cnn.compile(optimizer='adam',\n",
        "              loss='sparse_categorical_crossentropy',\n",
        "              metrics=['accuracy']\n",
        "              )"
      ],
      "metadata": {
        "id": "ef_7VfyFrVFs"
      },
      "execution_count": 28,
      "outputs": []
    },
    {
      "cell_type": "code",
      "source": [
        "cnn.fit(X_train, Y_train, epochs = 10)"
      ],
      "metadata": {
        "colab": {
          "base_uri": "https://localhost:8080/"
        },
        "id": "nf4GVNxit6jF",
        "outputId": "adcabdaf-efcc-4170-fd81-9e4796515a93"
      },
      "execution_count": 29,
      "outputs": [
        {
          "output_type": "stream",
          "name": "stdout",
          "text": [
            "Epoch 1/10\n",
            "1563/1563 [==============================] - 70s 44ms/step - loss: 1.8962 - accuracy: 0.4117\n",
            "Epoch 2/10\n",
            "1563/1563 [==============================] - 64s 41ms/step - loss: 1.2602 - accuracy: 0.5563\n",
            "Epoch 3/10\n",
            "1563/1563 [==============================] - 66s 42ms/step - loss: 1.1124 - accuracy: 0.6126\n",
            "Epoch 4/10\n",
            "1563/1563 [==============================] - 63s 40ms/step - loss: 1.0110 - accuracy: 0.6501\n",
            "Epoch 5/10\n",
            "1563/1563 [==============================] - 63s 41ms/step - loss: 0.9320 - accuracy: 0.6797\n",
            "Epoch 6/10\n",
            "1563/1563 [==============================] - 64s 41ms/step - loss: 0.8541 - accuracy: 0.7028\n",
            "Epoch 7/10\n",
            "1563/1563 [==============================] - 64s 41ms/step - loss: 0.8015 - accuracy: 0.7238\n",
            "Epoch 8/10\n",
            "1563/1563 [==============================] - 64s 41ms/step - loss: 0.7546 - accuracy: 0.7369\n",
            "Epoch 9/10\n",
            "1563/1563 [==============================] - 64s 41ms/step - loss: 0.7047 - accuracy: 0.7532\n",
            "Epoch 10/10\n",
            "1563/1563 [==============================] - 63s 41ms/step - loss: 0.6664 - accuracy: 0.7674\n"
          ]
        },
        {
          "output_type": "execute_result",
          "data": {
            "text/plain": [
              "<keras.callbacks.History at 0x7f07f446de50>"
            ]
          },
          "metadata": {},
          "execution_count": 29
        }
      ]
    },
    {
      "cell_type": "code",
      "source": [
        "cnn.evaluate(X_test,Y_test)"
      ],
      "metadata": {
        "colab": {
          "base_uri": "https://localhost:8080/"
        },
        "id": "tsR8WCqluGLO",
        "outputId": "6884a5d9-ec1a-43df-86b6-8d9556f22305"
      },
      "execution_count": 30,
      "outputs": [
        {
          "output_type": "stream",
          "name": "stdout",
          "text": [
            "313/313 [==============================] - 4s 12ms/step - loss: 1.1492 - accuracy: 0.6564\n"
          ]
        },
        {
          "output_type": "execute_result",
          "data": {
            "text/plain": [
              "[1.149153232574463, 0.6564000248908997]"
            ]
          },
          "metadata": {},
          "execution_count": 30
        }
      ]
    },
    {
      "cell_type": "code",
      "source": [
        "y_pred = cnn.predict(X_test)"
      ],
      "metadata": {
        "id": "ex8YMzpe3m7r",
        "colab": {
          "base_uri": "https://localhost:8080/"
        },
        "outputId": "f5bc91bc-7819-477a-a0b6-f49dfd859a70"
      },
      "execution_count": 33,
      "outputs": [
        {
          "output_type": "stream",
          "name": "stdout",
          "text": [
            "313/313 [==============================] - 4s 11ms/step\n"
          ]
        }
      ]
    },
    {
      "cell_type": "code",
      "source": [
        "y_classes = [np.argmax(element) for element in y_pred]"
      ],
      "metadata": {
        "id": "AMMRW7aj4XE4"
      },
      "execution_count": 34,
      "outputs": []
    },
    {
      "cell_type": "code",
      "source": [
        "y_classes[:10]"
      ],
      "metadata": {
        "colab": {
          "base_uri": "https://localhost:8080/"
        },
        "id": "htBAbzjMnsmn",
        "outputId": "bae9cbb9-0cd6-429e-919c-12bfb1c529dc"
      },
      "execution_count": 39,
      "outputs": [
        {
          "output_type": "execute_result",
          "data": {
            "text/plain": [
              "[3, 8, 8, 0, 6, 6, 9, 6, 7, 1]"
            ]
          },
          "metadata": {},
          "execution_count": 39
        }
      ]
    },
    {
      "cell_type": "code",
      "source": [
        "Y_test[:10]"
      ],
      "metadata": {
        "colab": {
          "base_uri": "https://localhost:8080/"
        },
        "id": "wODA5j7xnzPO",
        "outputId": "c3ec876b-4b2a-40ca-d87b-1f999bfab3ea"
      },
      "execution_count": 40,
      "outputs": [
        {
          "output_type": "execute_result",
          "data": {
            "text/plain": [
              "array([3, 8, 8, 0, 6, 6, 1, 6, 3, 1], dtype=uint8)"
            ]
          },
          "metadata": {},
          "execution_count": 40
        }
      ]
    },
    {
      "cell_type": "code",
      "source": [
        "show_sample(X_test, Y_test,9)"
      ],
      "metadata": {
        "colab": {
          "base_uri": "https://localhost:8080/",
          "height": 237
        },
        "id": "2H5hipgon3b1",
        "outputId": "8da2de81-b0b0-499e-fbf5-bf5da7774071"
      },
      "execution_count": 47,
      "outputs": [
        {
          "output_type": "display_data",
          "data": {
            "text/plain": [
              "<Figure size 1500x200 with 1 Axes>"
            ],
            "image/png": "[encoded data removed]"
          },
          "metadata": {}
        }
      ]
    },
    {
      "cell_type": "code",
      "source": [
        "classes[y_classes[9]]"
      ],
      "metadata": {
        "colab": {
          "base_uri": "https://localhost:8080/",
          "height": 35
        },
        "id": "VsfGhWX1n7Kd",
        "outputId": "47ccd9df-f0bb-4f65-b4e8-db22af48938d"
      },
      "execution_count": 46,
      "outputs": [
        {
          "output_type": "execute_result",
          "data": {
            "text/plain": [
              "'automobile'"
            ],
            "application/vnd.google.colaboratory.intrinsic+json": {
              "type": "string"
            }
          },
          "metadata": {},
          "execution_count": 46
        }
      ]
    },
    {
      "cell_type": "code",
      "source": [
        "from sklearn.metrics import confusion_matrix, classification_report\n",
        "print(\"Classification Report: \\n\", classification_report(Y_test, y_classes))"
      ],
      "metadata": {
        "colab": {
          "base_uri": "https://localhost:8080/"
        },
        "id": "a9b25zIDoEaR",
        "outputId": "88fcad87-8923-4932-bee0-cf474e7451cf"
      },
      "execution_count": 51,
      "outputs": [
        {
          "output_type": "stream",
          "name": "stdout",
          "text": [
            "Classification Report: \n",
            "               precision    recall  f1-score   support\n",
            "\n",
            "           0       0.65      0.75      0.70      1000\n",
            "           1       0.80      0.75      0.78      1000\n",
            "           2       0.68      0.38      0.49      1000\n",
            "           3       0.53      0.39      0.45      1000\n",
            "           4       0.53      0.70      0.60      1000\n",
            "           5       0.55      0.58      0.57      1000\n",
            "           6       0.65      0.80      0.72      1000\n",
            "           7       0.67      0.70      0.69      1000\n",
            "           8       0.77      0.76      0.76      1000\n",
            "           9       0.77      0.76      0.76      1000\n",
            "\n",
            "    accuracy                           0.66     10000\n",
            "   macro avg       0.66      0.66      0.65     10000\n",
            "weighted avg       0.66      0.66      0.65     10000\n",
            "\n"
          ]
        }
      ]
    },
    {
      "cell_type": "code",
      "source": [],
      "metadata": {
        "id": "mzZ1pqCAox-x"
      },
      "execution_count": null,
      "outputs": []
    }
  ]
}